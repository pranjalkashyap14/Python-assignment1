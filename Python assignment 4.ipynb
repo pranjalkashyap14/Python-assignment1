{
 "cells": [
  {
   "cell_type": "markdown",
   "id": "c12dfa43",
   "metadata": {},
   "source": [
    "1 Write a Python Program(with class concepts) to find the area of the triangle using the below \n",
    "formula.\n",
    "\n",
    "#  area = (s*(s-a)*(s-b)*(s-c)) ***0.5\n",
    "\n",
    "Function to take the length of the sides of triangle from user should be defined in the parent \n",
    "class and function to calculate the area should be defined in subclass"
   ]
  },
  {
   "cell_type": "code",
   "execution_count": 12,
   "id": "d1403224",
   "metadata": {},
   "outputs": [
    {
     "name": "stdout",
     "output_type": "stream",
     "text": [
      "a = 2\n",
      "b = 2\n",
      "c = 2\n",
      "area : 1.7320508075688772\n"
     ]
    }
   ],
   "source": [
    "class area:\n",
    "    def __init__(self, a, b, c):\n",
    "        self.a = float(a)\n",
    "        self.b = float(b)\n",
    "        self.c = float(c)\n",
    "        self.area = 0\n",
    "\n",
    "class triangle(area):\n",
    "    def __init__(self, a, b, c):\n",
    "        poly.__init__(self, a, b, c)\n",
    "\n",
    "    def calculate_area(self):\n",
    "        s = (self.a + self.b + self.c) / 2\n",
    "        self.area = float((s * (s - self.a) * (s - self.b) * (s - self.c))) ** 0.5\n",
    "\n",
    "    def get_area(self):\n",
    "        return self.area     \n",
    "\n",
    "a, b, c = input(\"a = \"), input(\"b = \"), input(\"c = \")\n",
    "\n",
    "t = triangle(a, b, c)\n",
    "t.calculate_area()\n",
    "print(\"area : {}\".format(t.get_area()))"
   ]
  },
  {
   "cell_type": "markdown",
   "id": "3cba51b2",
   "metadata": {},
   "source": [
    "# 2.  Write a function filter_long_words() that takes a list of words and an integer n and returns the list of words that are longer than n."
   ]
  },
  {
   "cell_type": "code",
   "execution_count": 23,
   "id": "5c732dd6",
   "metadata": {},
   "outputs": [
    {
     "name": "stdout",
     "output_type": "stream",
     "text": [
      "Enter words, separated by spaces: abc abcd def pranj \n",
      "Minimum length of words to keep: 4\n",
      "Words longer than 4 are abcd, pranj.\n"
     ]
    }
   ],
   "source": [
    "def filter_long_words(wordlist, length):\n",
    "    return (word for word in wordlist if len(word) >= length)\n",
    "\n",
    "def main():\n",
    "    words = input(\"Enter words, separated by spaces: \").split()\n",
    "    length = int(input(\"Minimum length of words to keep: \"))\n",
    "    print(\"Words longer than {} are {}.\".format(length,\n",
    "          ', '.join(filter_long_words(words, length))))\n",
    "\n",
    "main()"
   ]
  },
  {
   "cell_type": "markdown",
   "id": "3bbcafbe",
   "metadata": {},
   "source": [
    "# 3. Write a Python program using function concept that maps list of words into a list of integers representing the lengths of the corresponding words.\n",
    "Hint: If a list [ ab,cde,erty] is passed on to the python function output should come as [2,3,4]\n",
    "Here 2,3 and 4 are the lengths of the words in the list."
   ]
  },
  {
   "cell_type": "code",
   "execution_count": 38,
   "id": "27040998",
   "metadata": {},
   "outputs": [
    {
     "name": "stdout",
     "output_type": "stream",
     "text": [
      "please enter the words using comma : pr,pran,kashy,kashyap\n",
      "List of wordlength:[2, 4, 5, 7]\n"
     ]
    }
   ],
   "source": [
    "listOfWords = input(\"please enter the words using comma : \").split(\",\")\n",
    "listOfInts = []\n",
    " \n",
    "for i in range(len(listOfWords)):\n",
    "    listOfInts.append(len(listOfWords[i]))\n",
    "print (\"List of wordlength:\"+str(listOfInts))"
   ]
  },
  {
   "cell_type": "markdown",
   "id": "b1d0f8fa",
   "metadata": {},
   "source": [
    "# 4. Write a Python function which takes a character (i.e. a string of length 1) and returns True if it is a vowel, False otherwise."
   ]
  },
  {
   "cell_type": "code",
   "execution_count": 53,
   "id": "feaa4544",
   "metadata": {},
   "outputs": [
    {
     "name": "stdout",
     "output_type": "stream",
     "text": [
      "Enter a word\n",
      "P\n",
      "This is not a vowel\n"
     ]
    }
   ],
   "source": [
    "def vowelcheck(inputchar):\n",
    "    if(inputchar==\"a\" or inputchar==\"A\" or\n",
    "       inputchar==\"e\" or inputchar==\"E\" or\n",
    "       inputchar==\"i\" or inputchar==\"I\" or\n",
    "       inputchar==\"o\" or inputchar==\"O\" or\n",
    "       inputchar==\"u\" or inputchar==\"U\"):\n",
    "        return \"True\"\n",
    "    else:\n",
    "        return \"False\"\n",
    "print(\"Enter a word\")\n",
    "inputchar=input()\n",
    "if vowelcheck(inputchar)==\"True\":\n",
    "    print(\"This is a vowel\")\n",
    "else:\n",
    "    print(\"This is not a vowel\")\n",
    "       "
   ]
  }
 ],
 "metadata": {
  "kernelspec": {
   "display_name": "Python 3",
   "language": "python",
   "name": "python3"
  },
  "language_info": {
   "codemirror_mode": {
    "name": "ipython",
    "version": 3
   },
   "file_extension": ".py",
   "mimetype": "text/x-python",
   "name": "python",
   "nbconvert_exporter": "python",
   "pygments_lexer": "ipython3",
   "version": "3.8.8"
  }
 },
 "nbformat": 4,
 "nbformat_minor": 5
}
