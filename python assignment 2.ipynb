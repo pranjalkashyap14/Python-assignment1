{
 "cells": [
  {
   "cell_type": "markdown",
   "id": "ae29adbd",
   "metadata": {},
   "source": [
    "### 1.  Create the below pattern using nested for loop in Python. \n",
    "#   * \n",
    "#   * * \n",
    "#   * * * \n",
    "#   * * * * \n",
    "#   * * * * * \n",
    "#   * * * * \n",
    "#   * * * \n",
    "#   * * \n",
    "#   * \n",
    "\n"
   ]
  },
  {
   "cell_type": "code",
   "execution_count": 29,
   "id": "7242e4c2",
   "metadata": {},
   "outputs": [
    {
     "name": "stdout",
     "output_type": "stream",
     "text": [
      "\n",
      "\n",
      "*  \n",
      "\n",
      "*  *  \n",
      "\n",
      "*  *  *  \n",
      "\n",
      "*  *  *  *  \n",
      "\n",
      "*  *  *  *  *  \n",
      "\n",
      "*  *  *  *  \n",
      "\n",
      "*  *  *  \n",
      "\n",
      "*  *  \n",
      "\n",
      "*  \n",
      "\n"
     ]
    }
   ],
   "source": [
    "for i in range(5):\n",
    "    for j in range(i):\n",
    "        print( \"* \" , end = \" \")\n",
    "    \n",
    "    print(\"\\n\")\n",
    "    \n",
    "for i in range(5,0,-1):\n",
    "    for j in range(i):\n",
    "        print( \"* \" , end = \" \")\n",
    "    \n",
    "    print(\"\\n\")\n",
    "\n"
   ]
  },
  {
   "cell_type": "markdown",
   "id": "51ece545",
   "metadata": {},
   "source": [
    "2. Write a Python program to reverse a word after accepting the input from the user.\n",
    "    Sample Output: \n",
    "    Input word: ineuron \n",
    "    Output: norueni\n"
   ]
  },
  {
   "cell_type": "code",
   "execution_count": 35,
   "id": "434ae45a",
   "metadata": {},
   "outputs": [
    {
     "name": "stdout",
     "output_type": "stream",
     "text": [
      "please enter the namepranjal\n",
      "l a j n a r p \n",
      "\n"
     ]
    }
   ],
   "source": [
    "a=input(\"please enter the name\")\n",
    "for char in range(len(a)-1,-1,-1):\n",
    "    print(a[char],end=\" \")\n",
    "print(\"\\n\")\n"
   ]
  },
  {
   "cell_type": "code",
   "execution_count": null,
   "id": "b5597828",
   "metadata": {},
   "outputs": [],
   "source": []
  }
 ],
 "metadata": {
  "kernelspec": {
   "display_name": "Python 3",
   "language": "python",
   "name": "python3"
  },
  "language_info": {
   "codemirror_mode": {
    "name": "ipython",
    "version": 3
   },
   "file_extension": ".py",
   "mimetype": "text/x-python",
   "name": "python",
   "nbconvert_exporter": "python",
   "pygments_lexer": "ipython3",
   "version": "3.8.8"
  }
 },
 "nbformat": 4,
 "nbformat_minor": 5
}
