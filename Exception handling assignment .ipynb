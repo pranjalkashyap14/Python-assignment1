{
 "cells": [
  {
   "cell_type": "markdown",
   "id": "3c6f9ebc",
   "metadata": {},
   "source": [
    "1. Write a function to compute 5/0 and use try/except to catch the exceptions."
   ]
  },
  {
   "cell_type": "code",
   "execution_count": 16,
   "id": "9c436e22",
   "metadata": {},
   "outputs": [
    {
     "name": "stdout",
     "output_type": "stream",
     "text": [
      "enter a no to be divided by zero: 5\n",
      "Exception error\n",
      "Infinty\n"
     ]
    }
   ],
   "source": [
    "try:\n",
    "    a=input(\"enter a no to be divided by zero: \")\n",
    "    b=0\n",
    "    f=a/b\n",
    "except Exception:\n",
    "    print(\"Exception block error\")\n",
    "finally :\n",
    "    print(\"Infinty\")\n"
   ]
  },
  {
   "cell_type": "markdown",
   "id": "1b734aa6",
   "metadata": {},
   "source": [
    "2. Implement a Python program to generate all sentences where subject is in \n",
    "[\"Americans\", \"Indians\"] and verb is in [\"Play\", \"watch\"] and the object is in \n",
    "[\"Baseball\",\"cricket\"].\n",
    "# Hint: Subject,Verb and Object should be declared in the program as shown below.\n",
    "# subjects=[\"Americans \",\"Indians\"]\n",
    "# verbs=[\"play\",\"watch\"]\n",
    "# objects=[\"Baseball\",\"Cricket\"]\n",
    "# Output should come as below:\n",
    "# Americans play Baseball.\n",
    "# Americans play Cricket.\n",
    "# Americans watch Baseball.\n",
    "# Americans watch Cricket.\n",
    "# Indians play Baseball.\n",
    "# Indians play Cricket.\n",
    "# Indians watch Baseball.\n",
    "# Indians watch Cricket."
   ]
  },
  {
   "cell_type": "code",
   "execution_count": 22,
   "id": "fd5d01bb",
   "metadata": {},
   "outputs": [
    {
     "name": "stdout",
     "output_type": "stream",
     "text": [
      "Americans  play Baseball\n",
      "Americans  play Cricket\n",
      "Americans  watch Baseball\n",
      "Americans  watch Cricket\n",
      "Indians play Baseball\n",
      "Indians play Cricket\n",
      "Indians watch Baseball\n",
      "Indians watch Cricket\n"
     ]
    }
   ],
   "source": [
    "subject=[\"Americans \",\"Indians\"]\n",
    "verb=[\"play\",\"watch\"]\n",
    "object=[\"Baseball\",\"Cricket\"]\n",
    "Full_sentence=[(sub+\" \"+ver+\" \"+obj) for sub in subject for ver in verb for obj in object]\n",
    "for sentence in Full_sentence:\n",
    "    print(sentence)"
   ]
  },
  {
   "cell_type": "code",
   "execution_count": null,
   "id": "54a9e431",
   "metadata": {},
   "outputs": [],
   "source": []
  }
 ],
 "metadata": {
  "kernelspec": {
   "display_name": "Python 3",
   "language": "python",
   "name": "python3"
  },
  "language_info": {
   "codemirror_mode": {
    "name": "ipython",
    "version": 3
   },
   "file_extension": ".py",
   "mimetype": "text/x-python",
   "name": "python",
   "nbconvert_exporter": "python",
   "pygments_lexer": "ipython3",
   "version": "3.8.8"
  }
 },
 "nbformat": 4,
 "nbformat_minor": 5
}
